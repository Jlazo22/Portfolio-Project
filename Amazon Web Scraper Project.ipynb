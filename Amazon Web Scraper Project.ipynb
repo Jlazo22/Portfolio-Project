{
 "cells": [
  {
   "cell_type": "code",
   "execution_count": 64,
   "id": "e2047b8f-f10c-4035-b5f8-bbcdc553e7e8",
   "metadata": {},
   "outputs": [],
   "source": [
    "#importing library\n",
    "\n",
    "\n",
    "from bs4 import BeautifulSoup\n",
    "import requests\n",
    "import time\n",
    "import datetime\n",
    "import pandas as pd\n",
    "\n",
    "import smtplib"
   ]
  },
  {
   "cell_type": "code",
   "execution_count": 66,
   "id": "ea494bde-ffad-40fa-9f11-ef42938df6a5",
   "metadata": {},
   "outputs": [
    {
     "name": "stdout",
     "output_type": "stream",
     "text": [
      "\n",
      "                    Got Data Funny Business Data Analyst T-Shirt\n",
      "                   \n",
      "$15.99\n"
     ]
    }
   ],
   "source": [
    "#Connecting to website and pulling in data\n",
    "\n",
    "URL = 'https://www.amazon.com/Funny-Data-Systems-Business-Analyst/dp/B07FNW9FGJ/ref=sr_1_3?dchild=1&keywords=data%2Banalyst%2Btshirt&qid=1626655184&sr=8-3&customId=B0752XJYNL&th=1'\n",
    "\n",
    "headers = {\"User-Agent\": \"Mozilla/5.0 (Windows NT 10.0; Win64; x64) AppleWebKit/537.36 (KHTML, like Gecko) Chrome/133.0.0.0 Safari/537.36 Edg/133.0.0.0\", \"Accept\":\"text/html,application/xhtml+xml,application/xml;q=0.9,*/*;q=0.8\", \"DNT\":\"1\",\"Connection\":\"close\", \"Upgrade-Insecure-Requests\":\"1\"}\n",
    "\n",
    "page = requests.get(URL, headers=headers)\n",
    "\n",
    "soup1 = BeautifulSoup(page.content, \"html.parser\")\n",
    "\n",
    "soup2 = BeautifulSoup(soup1.prettify(), \"html.parser\")\n",
    "\n",
    "title = soup2.find(id='productTitle').get_text()\n",
    "price_whole = soup2.find(class_='a-price-whole').get_text(strip=True)\n",
    "price_fraction = soup2.find(class_='a-price-fraction').get_text(strip=True)\n",
    "price = f'{price_symbol}{price_whole}{price_fraction}'\n",
    "\n",
    "\n",
    "print(title)\n",
    "print(price)"
   ]
  },
  {
   "cell_type": "code",
   "execution_count": 68,
   "id": "154ddd7d-4a30-4b54-9605-0512a0a6c5f4",
   "metadata": {},
   "outputs": [
    {
     "name": "stdout",
     "output_type": "stream",
     "text": [
      "15.99\n",
      "Got Data Funny Business Data Analyst T-Shirt\n"
     ]
    }
   ],
   "source": [
    "#Price and title clean up\n",
    "\n",
    "price = price.strip()[1:]\n",
    "title = title.strip()\n",
    "print(price)\n",
    "print(title)"
   ]
  },
  {
   "cell_type": "code",
   "execution_count": 70,
   "id": "a5d90ebc-ac6c-4753-9ed4-eb86a8a4b557",
   "metadata": {},
   "outputs": [
    {
     "name": "stdout",
     "output_type": "stream",
     "text": [
      "2025-03-11\n"
     ]
    }
   ],
   "source": [
    "# Create a Timestamp for your output to track when data was collected\n",
    "\n",
    "import datetime\n",
    "\n",
    "today = datetime.date.today()\n",
    "print(today)"
   ]
  },
  {
   "cell_type": "code",
   "execution_count": 78,
   "id": "7039d64a-9ef1-44b8-805f-ce17aa4fd865",
   "metadata": {},
   "outputs": [],
   "source": [
    "#Importing data to a csv file with headers\n",
    "#w means write\n",
    "#newline - no space in between csv\n",
    "\n",
    "import csv\n",
    "\n",
    "header = ['Title', 'Price', 'Date']\n",
    "data = [title, price, today]\n",
    "\n",
    "with open('AmazonWebScraping.csv', 'w', newline='', encoding = 'UTF8') as f:\n",
    "    writer = csv.writer(f)\n",
    "    writer.writerow(header)\n",
    "    writer.writerow(data)\n",
    "\n"
   ]
  },
  {
   "cell_type": "code",
   "execution_count": 80,
   "id": "4a9d0dae-8c4f-4f54-b365-b84fc0050643",
   "metadata": {},
   "outputs": [
    {
     "name": "stdout",
     "output_type": "stream",
     "text": [
      "                                          Title  Price        Date\n",
      "0  Got Data Funny Business Data Analyst T-Shirt  15.99  2025-03-11\n"
     ]
    }
   ],
   "source": [
    "# To Check file without opening file\n",
    "\n",
    "df = pd.read_csv(r\"C:\\Users\\joiel\\AmazonWebScraping.csv\")\n",
    "\n",
    "print(df)"
   ]
  },
  {
   "cell_type": "code",
   "execution_count": null,
   "id": "9d4fdff1-479a-4c28-824a-fb46e98b6393",
   "metadata": {},
   "outputs": [],
   "source": [
    "#Appending data - a+\n",
    "\n",
    "with open('AmazonWebScraping.csv', 'a+', newline='', encoding = 'UTF8') as f:\n",
    "    writer = csv.writer(f)\n",
    "    writer.writerow(data)"
   ]
  },
  {
   "cell_type": "code",
   "execution_count": 84,
   "id": "1f482c8a-dc61-46d7-bd6d-fa2ff182f5ea",
   "metadata": {},
   "outputs": [],
   "source": [
    "\n",
    "\n",
    "def check_price():\n",
    "\n",
    "    URL = 'https://www.amazon.com/Funny-Data-Systems-Business-Analyst/dp/B07FNW9FGJ/ref=sr_1_3?dchild=1&keywords=data%2Banalyst%2Btshirt&qid=1626655184&sr=8-3&customId=B0752XJYNL&th=1'\n",
    "\n",
    "    headers = {\"User-Agent\": \"Mozilla/5.0 (Windows NT 10.0; Win64; x64) AppleWebKit/537.36 (KHTML, like Gecko) Chrome/133.0.0.0 Safari/537.36 Edg/133.0.0.0\", \"Accept\":\"text/html,application/xhtml+xml,application/xml;q=0.9,*/*;q=0.8\", \"DNT\":\"1\",\"Connection\":\"close\", \"Upgrade-Insecure-Requests\":\"1\"}\n",
    "\n",
    "    page = requests.get(URL, headers=headers)\n",
    "\n",
    "    soup1 = BeautifulSoup(page.content, \"html.parser\")\n",
    "\n",
    "    soup2 = BeautifulSoup(soup1.prettify(), \"html.parser\")\n",
    "\n",
    "    title = soup2.find(id='productTitle').get_text()\n",
    "    \n",
    "    price_whole = soup2.find(class_='a-price-whole').get_text(strip=True)\n",
    "    \n",
    "    price_fraction = soup2.find(class_='a-price-fraction').get_text(strip=True)\n",
    "    \n",
    "    price = f'{price_symbol}{price_whole}{price_fraction}'\n",
    "\n",
    "    import datetime\n",
    "\n",
    "    today = datetime.date.today()\n",
    "\n",
    "    import csv\n",
    "\n",
    "    header = ['Title', 'Price', 'Date']\n",
    "    data = [title, price, today]\n",
    "\n",
    "    with open('AmazonWebScraping.csv', 'a+', newline='', encoding = 'UTF8') as f:\n",
    "        writer = csv.writer(f)\n",
    "        writer.writerow(data)\n",
    "    "
   ]
  },
  {
   "cell_type": "code",
   "execution_count": null,
   "id": "f68afe7d-84e0-4884-89b9-82fa8d4068b6",
   "metadata": {},
   "outputs": [],
   "source": [
    "# Timer\n",
    "\n",
    "while(True):\n",
    "    check_price()\n",
    "    time.sleep(86400) #every 24hrs"
   ]
  },
  {
   "cell_type": "code",
   "execution_count": null,
   "id": "d648c7d6-61ec-417d-9704-639905c50223",
   "metadata": {},
   "outputs": [],
   "source": []
  },
  {
   "cell_type": "code",
   "execution_count": null,
   "id": "c7968445-e060-4c4f-b331-042a89f819b8",
   "metadata": {},
   "outputs": [],
   "source": []
  },
  {
   "cell_type": "code",
   "execution_count": null,
   "id": "6c8b9c5a-d2cf-4a0c-8a52-95b29537d11a",
   "metadata": {},
   "outputs": [],
   "source": []
  },
  {
   "cell_type": "code",
   "execution_count": null,
   "id": "ddc4b5e3-4055-4ff8-bfc4-d0fc493b9d77",
   "metadata": {},
   "outputs": [],
   "source": []
  },
  {
   "cell_type": "code",
   "execution_count": null,
   "id": "bc60bb96-b81c-4000-8cd8-dc34acb566b4",
   "metadata": {},
   "outputs": [],
   "source": []
  },
  {
   "cell_type": "code",
   "execution_count": null,
   "id": "fdaa6d66-0961-4cf3-b0ed-23a3f146c8e3",
   "metadata": {},
   "outputs": [],
   "source": []
  },
  {
   "cell_type": "code",
   "execution_count": null,
   "id": "608e8437-d1fc-4016-ab1c-9046d6f1cddf",
   "metadata": {},
   "outputs": [],
   "source": []
  }
 ],
 "metadata": {
  "kernelspec": {
   "display_name": "Python [conda env:base] *",
   "language": "python",
   "name": "conda-base-py"
  },
  "language_info": {
   "codemirror_mode": {
    "name": "ipython",
    "version": 3
   },
   "file_extension": ".py",
   "mimetype": "text/x-python",
   "name": "python",
   "nbconvert_exporter": "python",
   "pygments_lexer": "ipython3",
   "version": "3.12.7"
  }
 },
 "nbformat": 4,
 "nbformat_minor": 5
}
